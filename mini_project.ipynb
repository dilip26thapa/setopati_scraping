{
 "cells": [
  {
   "cell_type": "code",
   "execution_count": 1,
   "metadata": {},
   "outputs": [
    {
     "name": "stderr",
     "output_type": "stream",
     "text": [
      "c:\\Python310\\lib\\site-packages\\bs4\\__init__.py:404: MarkupResemblesLocatorWarning: The input looks more like a URL than markup. You may want to use an HTTP client like requests to get the document behind the URL, and feed that document to Beautiful Soup.\n",
      "  warnings.warn(\n"
     ]
    },
    {
     "data": {
      "text/plain": [
       "['https://www.setopati.com/literature',\n",
       " 'https://www.setopati.com/ghumphir',\n",
       " 'https://www.setopati.com/global',\n",
       " 'javascript:void(0)',\n",
       " 'https://tvsnepal.com/offer/raider-king-of-the-road',\n",
       " 'https://tvsnepal.com/offer/raider-king-of-the-road',\n",
       " 'https://www.setopati.com/politics/278635',\n",
       " 'https://www.setopati.com/politics/278635',\n",
       " 'https://www.setopati.com/politics/278591',\n",
       " 'https://www.setopati.com/politics/278585',\n",
       " 'https://www.setopati.com/politics/278581',\n",
       " 'https://www.setopati.com/politics/278579',\n",
       " 'https://www.setopati.com/politics/278574',\n",
       " 'https://www.setopati.com/politics/278568',\n",
       " 'https://www.setopati.com/politics/278569',\n",
       " 'https://www.setopati.com/politics/278570',\n",
       " 'https://www.setopati.com/politics/278550',\n",
       " 'https://www.setopati.com/politics/278554',\n",
       " 'https://www.setopati.com/politics/278560',\n",
       " 'https://www.setopati.com/politics/278558',\n",
       " 'https://www.setopati.com/politics/278555',\n",
       " 'https://www.setopati.com/politics/278535',\n",
       " 'https://www.setopati.com/politics/278543',\n",
       " 'https://www.setopati.com/politics/278542',\n",
       " 'https://www.setopati.com/politics/278539',\n",
       " 'https://www.setopati.com/politics/278522',\n",
       " 'https://www.setopati.com/politics/278512',\n",
       " 'https://www.setopati.com/politics/278514',\n",
       " 'https://www.setopati.com/politics/278510',\n",
       " 'https://www.setopati.com/politics/278511',\n",
       " 'https://www.setopati.com/politics/278505',\n",
       " 'https://www.setopati.com/politics/278497',\n",
       " 'https://www.setopati.com/politics/278491',\n",
       " 'https://www.setopati.com/politics/278477',\n",
       " 'https://www.setopati.com/politics/278483',\n",
       " 'https://www.setopati.com/politics/278466',\n",
       " 'https://www.setopati.com/politics/278474',\n",
       " 'https://www.setopati.com/politics/278463',\n",
       " 'https://www.setopati.com/politics?page=1',\n",
       " 'https://www.setopati.com/politics?page=1']"
      ]
     },
     "execution_count": 1,
     "metadata": {},
     "output_type": "execute_result"
    }
   ],
   "source": [
    "from bs4 import BeautifulSoup\n",
    "import requests\n",
    "import pandas as pd\n",
    "\n",
    "number_page = int(input(\"Enter the number of pages: \"))\n",
    "all_news_link = []\n",
    "for i in range(number_page):\n",
    "    new_link = []\n",
    "    url = BeautifulSoup(f'https://www.setopati.com/politics?page={i}', 'html.parser')\n",
    "    soup = requests.get(url)\n",
    "    codes = BeautifulSoup(soup.text, 'lxml')\n",
    "    codes.find_all('section', class_='section special-news cat-list')\n",
    "    for link in codes.find_all('a'):\n",
    "        new_link.append(link.get('href'))\n",
    "all_news_link += new_link[19:-23]\n",
    "all_news_link"
   ]
  },
  {
   "cell_type": "code",
   "execution_count": 2,
   "metadata": {},
   "outputs": [],
   "source": [
    "all_news = {'news':[],'category':['politics'] * len( all_news_link )}\n",
    "for link in all_news_link:\n",
    "   try:\n",
    "      url = BeautifulSoup(link, 'html.parser')\n",
    "      soup = requests.get(url)\n",
    "      soup = soup.text\n",
    "      codes = BeautifulSoup(soup, \"lxml\")\n",
    "      news = codes.find(\"div\", class_=\"editor-box\").text\n",
    "      all_news['news'].append(news)\n",
    "   except:\n",
    "      continue"
   ]
  },
  {
   "cell_type": "code",
   "execution_count": 3,
   "metadata": {},
   "outputs": [
    {
     "name": "stdout",
     "output_type": "stream",
     "text": [
      "                                                 news  category\n",
      "0   \\n\\n\\n\\n\\n\\n\\n\\n\\n\\n\\n\\n\\nगोरखामा बाटो नै नभएक...  politics\n",
      "1   \\n\\n\\n\\n\\n\\n\\n\\n\\n\\n\\n\\n\\nगोरखामा बाटो नै नभएक...  politics\n",
      "2   \\n\\n\\n\\n\\n\\n\\n\\n\\n\\n\\n\\n\\nचीनको कडा विरोध चेता...  politics\n",
      "3   \\n\\n\\n\\n\\n\\n\\n\\n\\n\\n\\n\\n\\nनेपाल मजदुर किसान पा...  politics\n",
      "4   \\n\\n\\n\\n\\n\\n\\n\\n\\n\\n\\n\\n\\nसुदूरपश्चिम प्रदेशका...  politics\n",
      "5   \\n\\n\\n\\n\\n\\n\\n\\n\\n\\n\\n\\n\\nअमेरिकाको तल्लो सदन ...  politics\n",
      "6   \\n\\n\\n\\n\\n\\n\\n\\n\\n\\n\\n\\n\\nताइवान पुगेकी अमेरिक...  politics\n",
      "7   \\n\\n\\n\\n\\n\\n\\n\\n\\n\\n\\n\\n\\nअमेरिकाको तल्लो सदन ...  politics\n",
      "8   \\n\\n\\n\\n\\n\\n\\n\\n\\n\\n\\n\\n\\nप्रधानमन्त्री शेरबहा...  politics\n",
      "9   \\n\\n\\n\\n\\n\\n\\n\\n\\n\\n\\n\\n\\nनेकपा माओवादी केन्द्...  politics\n",
      "10  \\n\\n\\n\\n\\n\\n\\n\\n\\n\\n\\n\\n\\nविराटनगर महानगरपालिक...  politics\n",
      "11  \\n\\n\\n\\n\\n\\n\\n\\n\\n\\n\\n\\n\\nप्रमुख प्रतिपक्ष दल ...  politics\n",
      "12  \\n\\n\\n\\n\\n\\n\\n\\n\\n\\n\\n\\n\\nनेपाल कम्युनिष्ट पार...  politics\n",
      "13  \\n\\n\\n\\n\\n\\n\\n\\n\\n\\n\\n\\n\\nबजेट निर्माणमा अनधिक...  politics\n",
      "14  \\n\\n\\n\\n\\n\\n\\n\\n\\n\\n\\n\\n\\nप्रधानमन्त्री शेरबहा...  politics\n",
      "15  \\n\\n\\n\\n\\n\\n\\n\\n\\n\\n\\n\\n\\nसत्तासीन दल नेकपा (म...  politics\n",
      "16  \\n\\n\\n\\n\\n\\n\\n\\n\\n\\n\\n\\n\\nप्रहरीले छापामार शैल...  politics\n",
      "17  \\n\\n\\n\\n\\n\\n\\n\\n\\n\\n\\n\\n\\nअमेरिकाको तल्लो सदन ...  politics\n",
      "18  \\n\\n\\n\\n\\n\\n\\n\\n\\n\\n\\n\\n\\nपाकिस्तानको निर्वाचन...  politics\n",
      "19  \\n\\n\\n\\n\\n\\n\\n\\n\\n\\n\\n\\n\\nमाओवादी केन्द्रका सा...  politics\n",
      "20  \\n\\n\\n\\n\\n\\n\\n\\n\\n\\n\\n\\n\\nनेपाल कम्युनिष्ट पार...  politics\n",
      "21  \\n\\n\\n\\n\\n\\n\\n\\n\\n\\n\\n\\n\\nजनता समाजवादी पार्टी...  politics\n",
      "22  \\n\\n\\n\\n\\n\\n\\n\\n\\n\\n\\n\\n\\nलुम्बिनी विकास गुरूय...  politics\n",
      "23  \\n\\n\\n\\n\\n\\n\\n\\n\\n\\n\\n\\n\\nललितपुर महानगरपालिका...  politics\n",
      "24  \\n\\n\\n\\n\\n\\n\\n\\n\\n\\n\\n\\n\\nसरकारले संघीय र प्रद...  politics\n",
      "25  \\n\\n\\n\\n\\n\\n\\n\\n\\n\\n\\n\\n\\nअमेरिकी ड्रोन हमलामा...  politics\n",
      "26  \\n\\n\\n\\n\\n\\n\\n\\n\\n\\n\\n\\n\\nप्रदेश नम्बर १ का मु...  politics\n",
      "27  \\n\\n\\n\\n\\n\\n\\n\\n\\n\\n\\n\\n\\nअर्थमन्त्री जनार्दन ...  politics\n",
      "28  \\n\\n\\n\\n\\n\\n\\n\\n\\n\\n\\n\\n\\nनेपाली कांग्रेसका मह...  politics\n",
      "29  \\n\\n\\n\\n\\n\\n\\n\\n\\n\\n\\n\\n\\nपुराना राजनीतिक दलहर...  politics\n",
      "30  \\n\\n\\n\\n\\n\\n\\n\\n\\n\\n\\n\\n\\nप्रमुख प्रतिपक्ष दल ...  politics\n",
      "31  \\n\\n\\n\\n\\n\\n\\n\\n\\n\\n\\n\\n\\nविवादमा मुछिएका माओव...  politics\n",
      "32                                               None  politics\n",
      "33                                               None  politics\n",
      "34                                               None  politics\n",
      "35                                               None  politics\n",
      "36                                               None  politics\n",
      "37                                               None  politics\n",
      "38                                               None  politics\n",
      "39                                               None  politics\n"
     ]
    }
   ],
   "source": [
    "\n",
    "df = pd.DataFrame.from_dict(all_news, orient='index')\n",
    "df = df.transpose()\n",
    "print(df)"
   ]
  },
  {
   "cell_type": "code",
   "execution_count": null,
   "metadata": {},
   "outputs": [],
   "source": []
  }
 ],
 "metadata": {
  "kernelspec": {
   "display_name": "Python 3.10.5 64-bit",
   "language": "python",
   "name": "python3"
  },
  "language_info": {
   "codemirror_mode": {
    "name": "ipython",
    "version": 3
   },
   "file_extension": ".py",
   "mimetype": "text/x-python",
   "name": "python",
   "nbconvert_exporter": "python",
   "pygments_lexer": "ipython3",
   "version": "3.10.5"
  },
  "orig_nbformat": 4,
  "vscode": {
   "interpreter": {
    "hash": "369f2c481f4da34e4445cda3fffd2e751bd1c4d706f27375911949ba6bb62e1c"
   }
  }
 },
 "nbformat": 4,
 "nbformat_minor": 2
}
